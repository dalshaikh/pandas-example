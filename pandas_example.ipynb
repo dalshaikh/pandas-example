{
  "nbformat": 4,
  "nbformat_minor": 0,
  "metadata": {
    "colab": {
      "name": "pandas example.ipynb",
      "provenance": [],
      "authorship_tag": "ABX9TyORQIrTeBGdxSKnW2LzcpOf",
      "include_colab_link": true
    },
    "kernelspec": {
      "name": "python3",
      "display_name": "Python 3"
    },
    "language_info": {
      "name": "python"
    }
  },
  "cells": [
    {
      "cell_type": "markdown",
      "metadata": {
        "id": "view-in-github",
        "colab_type": "text"
      },
      "source": [
        "<a href=\"https://colab.research.google.com/github/dalshaikh/pandas-example/blob/main/pandas_example.ipynb\" target=\"_parent\"><img src=\"https://colab.research.google.com/assets/colab-badge.svg\" alt=\"Open In Colab\"/></a>"
      ]
    },
    {
      "cell_type": "code",
      "metadata": {
        "colab": {
          "base_uri": "https://localhost:8080/"
        },
        "id": "olm4uhNUaXQ8",
        "outputId": "61d378da-4727-4c87-9062-78cca1a08fdf"
      },
      "source": [
        "import pandas as pd\n",
        "fruits_list =['apple', 10 , 'Orange' , 55.05]\n",
        "print(fruits_list)\n",
        "print(\"**********************************\")\n",
        "\n",
        "fruits_df=pd.DataFrame(fruits_list)\n",
        "print(fruits_df)"
      ],
      "execution_count": null,
      "outputs": [
        {
          "output_type": "stream",
          "name": "stdout",
          "text": [
            "['apple', 10, 'Orange', 55.05]\n",
            "**********************************\n",
            "        0\n",
            "0   apple\n",
            "1      10\n",
            "2  Orange\n",
            "3   55.05\n"
          ]
        }
      ]
    },
    {
      "cell_type": "code",
      "metadata": {
        "colab": {
          "base_uri": "https://localhost:8080/"
        },
        "id": "8SsvbpkR0Q51",
        "outputId": "e65f57f7-96cc-433e-e1c2-2eaef3e9a1d7"
      },
      "source": [
        "import pandas as pd\n",
        "fruits_list2=[\"apple\",\"panana\", \"orange\" , \"Mango\"]\n",
        "print (fruits_list2)\n",
        "fruits_df=pd.DataFrame(fruits_list2,index=['fruit_1','fruit_2','fruit_3','fruit_4'])\n",
        "print(fruits_df)\n"
      ],
      "execution_count": null,
      "outputs": [
        {
          "output_type": "stream",
          "name": "stdout",
          "text": [
            "['apple', 'panana', 'orange', 'Mango']\n",
            "              0\n",
            "fruit_1   apple\n",
            "fruit_2  panana\n",
            "fruit_3  orange\n",
            "fruit_4   Mango\n"
          ]
        }
      ]
    },
    {
      "cell_type": "code",
      "metadata": {
        "colab": {
          "base_uri": "https://localhost:8080/"
        },
        "id": "GZanFrvh1sVN",
        "outputId": "17feec04-b131-4393-e1f1-f52c7f9f4a32"
      },
      "source": [
        "import pandas as pd\n",
        "fruits_list2=[\"apple\",\"panana\", \"orange\" , \"Mango\"]\n",
        "print (fruits_list2)\n",
        "fruits_df=pd.DataFrame(fruits_list2,columns=[\"fruits\"])\n",
        "print(fruits_df)"
      ],
      "execution_count": null,
      "outputs": [
        {
          "output_type": "stream",
          "name": "stdout",
          "text": [
            "['apple', 'panana', 'orange', 'Mango']\n",
            "   fruits\n",
            "0   apple\n",
            "1  panana\n",
            "2  orange\n",
            "3   Mango\n"
          ]
        }
      ]
    },
    {
      "cell_type": "code",
      "metadata": {
        "colab": {
          "base_uri": "https://localhost:8080/"
        },
        "id": "-Cp_PBcx19N9",
        "outputId": "5716f799-bffb-4804-9746-56fa28fa2cd3"
      },
      "source": [
        "import pandas as pd\n",
        "price_list = ['50', '100', '60', '20']\n",
        "print(price_list)\n",
        "print(\"****************\")\n",
        "price_df = pd.DataFrame(price_list)\n",
        "print(\"Data type before : \", price_df.dtypes)\n",
        "\n",
        "price_df = pd.DataFrame(price_list, dtype='float64')\n",
        "print(\"Data type after : \", price_df.dtypes)\n",
        "print(price_df)"
      ],
      "execution_count": null,
      "outputs": [
        {
          "output_type": "stream",
          "name": "stdout",
          "text": [
            "['50', '100', '60', '20']\n",
            "****************\n",
            "Data type before :  0    object\n",
            "dtype: object\n",
            "Data type after :  0    float64\n",
            "dtype: object\n",
            "       0\n",
            "0   50.0\n",
            "1  100.0\n",
            "2   60.0\n",
            "3   20.0\n"
          ]
        }
      ]
    },
    {
      "cell_type": "code",
      "metadata": {
        "colab": {
          "base_uri": "https://localhost:8080/"
        },
        "id": "kgF1_wi72Rxc",
        "outputId": "33bed5ce-7c5d-4739-c497-0f7f8e2f495a"
      },
      "source": [
        "import pandas as pd\n",
        "\n",
        "# Create list\n",
        "fruits_list = [['Apple', 'Banana', 'Orange', 'Mango'],[120, 40, 80, 500]]\n",
        "print(fruits_list)\n",
        "\n",
        "# Create DataFrame from list\n",
        "fruits_df = pd.DataFrame(fruits_list)\n",
        "print(fruits_df)"
      ],
      "execution_count": null,
      "outputs": [
        {
          "output_type": "stream",
          "name": "stdout",
          "text": [
            "[['Apple', 'Banana', 'Orange', 'Mango'], [120, 40, 80, 500]]\n",
            "       0       1       2      3\n",
            "0  Apple  Banana  Orange  Mango\n",
            "1    120      40      80    500\n"
          ]
        }
      ]
    },
    {
      "cell_type": "code",
      "metadata": {
        "colab": {
          "base_uri": "https://localhost:8080/"
        },
        "id": "uS-mN-Dz2h3k",
        "outputId": "ca2b8073-7329-4675-a85a-e84262d8c771"
      },
      "source": [
        "import pandas as pd\n",
        "\n",
        "# Create list\n",
        "fruits_list = [['Apple', 'Banana', 'Orange', 'Mango'],[120, 40, 80, 500]]\n",
        "print(fruits_list)\n",
        "\n",
        "# Create DataFrame from list\n",
        "fruits_df = pd.DataFrame(fruits_list).transpose()\n",
        "print(fruits_df)"
      ],
      "execution_count": null,
      "outputs": [
        {
          "output_type": "stream",
          "name": "stdout",
          "text": [
            "[['Apple', 'Banana', 'Orange', 'Mango'], [120, 40, 80, 500]]\n",
            "        0    1\n",
            "0   Apple  120\n",
            "1  Banana   40\n",
            "2  Orange   80\n",
            "3   Mango  500\n"
          ]
        }
      ]
    },
    {
      "cell_type": "code",
      "metadata": {
        "colab": {
          "base_uri": "https://localhost:8080/"
        },
        "id": "Lj9N_gPE4Cud",
        "outputId": "043fac04-79a0-410b-a674-b1c68194313a"
      },
      "source": [
        "import pandas as pd\n",
        "\n",
        "# Create multiple lists\n",
        "fruits_list = ['Apple', 'Banana', 'Orange', 'Mango']\n",
        "price_list = [120, 40, 80, 500]\n",
        "#zip() function to combine two list\n",
        "# Create DataFrame\n",
        "fruits_df = pd.DataFrame(list(zip(fruits_list, price_list )), columns = ['Name', 'Price'])\n",
        "print(fruits_df)"
      ],
      "execution_count": null,
      "outputs": [
        {
          "output_type": "stream",
          "name": "stdout",
          "text": [
            "     Name  Price\n",
            "0   Apple    120\n",
            "1  Banana     40\n",
            "2  Orange     80\n",
            "3   Mango    500\n"
          ]
        }
      ]
    },
    {
      "cell_type": "code",
      "metadata": {
        "colab": {
          "base_uri": "https://localhost:8080/"
        },
        "id": "pmQN1xJa4L2s",
        "outputId": "6fba13bf-bcf2-40e2-ed52-de7180a80f8a"
      },
      "source": [
        "import pandas as pd\n",
        "\n",
        "# Create multiple lists\n",
        "fruits_list = ['Apple', 'Banana', 'Orange', 'Mango']\n",
        "price_list = [120, 40, 80, 500]\n",
        "\n",
        "# Create dictinary  بدل ما احط جملة ال columns اللي فوق\n",
        "fruits_dict = {'Name': fruits_list,\n",
        "               'Price': price_list}\n",
        "print(fruits_dict)\n",
        "\n",
        "# Create DataFrame from dict\n",
        "fruits_df = pd.DataFrame(fruits_dict)\n",
        "print(fruits_df)"
      ],
      "execution_count": null,
      "outputs": [
        {
          "output_type": "stream",
          "name": "stdout",
          "text": [
            "{'Name': ['Apple', 'Banana', 'Orange', 'Mango'], 'Price': [120, 40, 80, 500]}\n",
            "     Name  Price\n",
            "0   Apple    120\n",
            "1  Banana     40\n",
            "2  Orange     80\n",
            "3   Mango    500\n"
          ]
        }
      ]
    },
    {
      "cell_type": "code",
      "metadata": {
        "colab": {
          "base_uri": "https://localhost:8080/"
        },
        "id": "8ReZEG10_aNn",
        "outputId": "56476067-44cb-4f5f-f71c-14f276455f2d"
      },
      "source": [
        "import pandas as pd\n",
        "\n",
        "student_dict = {\"name\": [\"Joe\", \"Nat\"], \"age\": [20, 21], \"marks\": [85.10, 77.80]}\n",
        "\n",
        "# Create DataFrame from dict\n",
        "student_df = pd.DataFrame(student_dict)\n",
        "print(student_df)\n",
        "\n",
        "# drop column\n",
        "student_df = student_df.drop\n",
        "\n",
        "print(student_df)"
      ],
      "execution_count": null,
      "outputs": [
        {
          "output_type": "stream",
          "name": "stdout",
          "text": [
            "  name  age  marks\n",
            "0  Joe   20   85.1\n",
            "1  Nat   21   77.8\n",
            "<bound method DataFrame.drop of   name  age  marks\n",
            "0  Joe   20   85.1\n",
            "1  Nat   21   77.8>\n"
          ]
        }
      ]
    },
    {
      "cell_type": "code",
      "metadata": {
        "id": "R6zxqsQ3486m"
      },
      "source": [
        ""
      ],
      "execution_count": null,
      "outputs": []
    }
  ]
}